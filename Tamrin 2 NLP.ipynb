{
 "cells": [
  {
   "cell_type": "code",
   "execution_count": null,
   "id": "acbad093",
   "metadata": {},
   "outputs": [],
   "source": []
  },
  {
   "cell_type": "code",
   "execution_count": 37,
   "id": "301e0024",
   "metadata": {},
   "outputs": [
    {
     "name": "stdout",
     "output_type": "stream",
     "text": [
      "After World War II, the British greatly reduced the use of the full stop and other punctuation points after abbreviations in at least semi-formal writing, while the Americans more readily kept such use until more recently, and still maintain it more than Britons. The classic example, considered by their American counterparts quite curious, was the maintenance of the internal comma in a British organisation of secret agents called the \"Special Operations, Executive\", \"S.O., E\", which is not found in histories written after about 1960.\n",
      "But before that, many Britons were more scrupulous at maintaining the French form. In French, the period only follows an abbreviation if the last letter in the abbreviation is not the last letter of its antecedent: \"M.\" is the abbreviation for \"monsieur\" while \"Mme\" is that for \"madame\". Like many other cross-channel linguistic acquisitions, many Britons readily took this up and followed this rule themselves, while the Americans took a simpler rule and applied it rigorously.\n",
      "Over the years, however, the lack of convention in some style guides has made it difficult to determine which two-word abbreviations should be abbreviated with periods and which should not. The U.S. media tend to use periods in two-word abbreviations like United States (U.S.), but not personal computer (PC) or television (TV). Many British publications have gradually done away with the use of periods in abbreviations.\n",
      "Minimization of punctuation in typewritten material became economically desirable in the 1960s and 1970s for the many users of carbon-film ribbons since a period or comma consumed the same length of non-reusable expensive ribbon as did a capital letter.\n",
      "Widespread use of electronic communication through mobile phones and the Internet during the 1990s allowed for a marked rise in colloquial abbreviation. This was due largely to increasing popularity of textual communication services such as instant- and text messaging. SMS, for instance, supports message lengths of 160 characters at most (using the GSM 03.38 character set). This brevity gave rise to an informal abbreviation scheme sometimes called Textese, with which 10% or more of the words in a typical SMS message are abbreviated. More recently Twitter, a popular social networking service, began driving abbreviation use with 140 character message limits.\n",
      "\n"
     ]
    }
   ],
   "source": [
    "# ساخت دیتاست\n",
    "\n",
    "df = open(\"dictionary.txt\", encoding=\"utf-8\").read()\n",
    "print(df)"
   ]
  },
  {
   "cell_type": "code",
   "execution_count": 31,
   "id": "caf491e6",
   "metadata": {},
   "outputs": [],
   "source": [
    "# تابع فاصله ویرایشی مینیمم لون اشتاین پویا\n",
    "\n",
    "def editDistDP(str1, str2, m, n): \n",
    "    dp = [[0 for x in range(n+1)] for x in range(m+1)] \n",
    "  \n",
    "    for i in range(m+1): \n",
    "        for j in range(n+1): \n",
    "  \n",
    "            if i == 0: \n",
    "                dp[i][j] = j    # Min. operations = j \n",
    "  \n",
    "            elif j == 0: \n",
    "                dp[i][j] = i    # Min. operations = i \n",
    "  \n",
    "            elif str1[i-1] == str2[j-1]: \n",
    "                dp[i][j] = dp[i-1][j-1] \n",
    "  \n",
    "            else: \n",
    "                dp[i][j] = 1 + min(dp[i][j-1],        # Insert \n",
    "                                   dp[i-1][j],        # Remove \n",
    "                                   dp[i-1][j-1])    # Replace \n",
    "  \n",
    "    return dp[m][n] \n"
   ]
  },
  {
   "cell_type": "code",
   "execution_count": 35,
   "id": "9d9655d8",
   "metadata": {},
   "outputs": [
    {
     "name": "stdout",
     "output_type": "stream",
     "text": [
      "['The', 'classic', 'example', 'in', 'British', 'publications', 'has', 'gradually', 'done', 'away', 'with']\n",
      "['provided', 'Natural', 'selection', 'them']\n"
     ]
    }
   ],
   "source": [
    "import re\n",
    "\n",
    "text = \"The classic example provided in British publications.Natural selection has gradually done away with them.\"\n",
    "text1 = re.findall(r\"\\d+\\.+\\d+|\\d+s|\\w+\\.\\w+\\.\\w?|\\w+\",text)\n",
    "text2 = re.findall(r\"\\d+\\.+\\d+|\\d+s|\\w+\\.\\w+\\.\\w?|\\w+\",df)\n",
    "\n",
    "\n",
    "# پیدا کردن کلماتی که در دیتاست موجود است و فاصله آن 0 است\n",
    "\n",
    "my_list = []\n",
    "for i in text1:\n",
    "    if i in text2:\n",
    "        my_list.append(i)\n",
    "print(my_list) \n",
    "\n",
    "# پیدا کردن کلماتی که در دیتاست نیست \n",
    "\n",
    "list1 = []\n",
    "for j in text1:\n",
    "    if j in my_list:\n",
    "        pass\n",
    "    else:\n",
    "        list1.append(j)  \n",
    "print(list1)"
   ]
  },
  {
   "cell_type": "code",
   "execution_count": 24,
   "id": "cb9b9d43",
   "metadata": {},
   "outputs": [],
   "source": [
    "def mini(listt):\n",
    "    med = min(listt)\n",
    "    return med   "
   ]
  },
  {
   "cell_type": "code",
   "execution_count": 30,
   "id": "8073eb9e",
   "metadata": {},
   "outputs": [
    {
     "name": "stdout",
     "output_type": "stream",
     "text": [
      "provided 5\n",
      "Natural 3\n",
      "selection 4\n",
      "them 1\n"
     ]
    }
   ],
   "source": [
    "# پیدا کردن فاصله ویرایشی مینیمم کلماتی که در دیتاست وجود نداشت با فراخواندن تابع لون اشتاین \n",
    "\n",
    "a = []\n",
    "for str1 in list1:\n",
    "    for str2 in text2:\n",
    "        a.append(editDistDP(str1, str2, len(str1), len(str2))) \n",
    "    \n",
    "    print(str1, mini(a))\n",
    "    a.clear()\n"
   ]
  }
 ],
 "metadata": {
  "kernelspec": {
   "display_name": "Python 3 (ipykernel)",
   "language": "python",
   "name": "python3"
  },
  "language_info": {
   "codemirror_mode": {
    "name": "ipython",
    "version": 3
   },
   "file_extension": ".py",
   "mimetype": "text/x-python",
   "name": "python",
   "nbconvert_exporter": "python",
   "pygments_lexer": "ipython3",
   "version": "3.10.0"
  }
 },
 "nbformat": 4,
 "nbformat_minor": 5
}
